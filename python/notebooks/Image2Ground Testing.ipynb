{
 "cells": [
  {
   "cell_type": "code",
   "execution_count": 10,
   "metadata": {
    "collapsed": true
   },
   "outputs": [],
   "source": [
    "import json\n",
    "from math import sin, cos, pi\n",
    "import numpy as np"
   ]
  },
  {
   "cell_type": "code",
   "execution_count": 11,
   "metadata": {
    "collapsed": false
   },
   "outputs": [],
   "source": [
    "with open('isd.isd', 'r') as f:\n",
    "    isd = json.load(f)"
   ]
  },
  {
   "cell_type": "code",
   "execution_count": 13,
   "metadata": {
    "collapsed": false
   },
   "outputs": [
    {
     "data": {
      "text/plain": [
       "{'boresight': [0.0, 0.0, 1.0],\n",
       " 'ccd_center': 512.5,\n",
       " 'ephemeris_time': 418855170.49264956,\n",
       " 'focal_length': 549.1178195372703,\n",
       " 'focal_length_epsilon': 0.5,\n",
       " 'ifov': 25.44,\n",
       " 'instrument_id': 'MDIS-NAC',\n",
       " 'itrans_line': [0.0, 0.0, 71.42857143],\n",
       " 'itrans_sample': [0.0, 71.42857143, 0.0],\n",
       " 'kappa': -0.9630375478615623,\n",
       " 'nlines': 1024,\n",
       " 'nsamples': 1024,\n",
       " 'odt_x': [0.0,\n",
       "  1.001854269623802,\n",
       "  0.0,\n",
       "  0.0,\n",
       "  -0.0005094440474941111,\n",
       "  0.0,\n",
       "  1.004010471468856e-05,\n",
       "  0.0,\n",
       "  1.004010471468856e-05],\n",
       " 'odt_y': [0.0,\n",
       "  0.0,\n",
       "  1.0,\n",
       "  0.0009060010594996751,\n",
       "  0.0,\n",
       "  0.0003574842626620758,\n",
       "  0.0,\n",
       "  1.004010471468856e-05,\n",
       "  0.0],\n",
       " 'omega': 2.256130940792258,\n",
       " 'original_half_lines': 512.0,\n",
       " 'original_half_samples': 512.0,\n",
       " 'phi': 0.09433201631102328,\n",
       " 'pixel_pitch': 0.014,\n",
       " 'semi_major_axis': 2439.4,\n",
       " 'semi_minor_axis': 2439.4,\n",
       " 'spacecraft_name': 'Messenger',\n",
       " 'starting_detector_line': 1.0,\n",
       " 'starting_detector_sample': 9.0,\n",
       " 'target_name': 'Mercury',\n",
       " 'transx': [0.0, 0.014, 0.0],\n",
       " 'transy': [0.0, 0.0, 0.014],\n",
       " 'x_sensor_origin': 1728357.7031238307,\n",
       " 'y_sensor_origin': -2088409.0061042644,\n",
       " 'z_sensor_origin': 2082873.9280557402}"
      ]
     },
     "execution_count": 13,
     "metadata": {},
     "output_type": "execute_result"
    }
   ],
   "source": [
    "isd"
   ]
  },
  {
   "cell_type": "code",
   "execution_count": 14,
   "metadata": {
    "collapsed": false
   },
   "outputs": [
    {
     "data": {
      "text/plain": [
       "array([[ 549.11781954,    0.        ,  512.        ],\n",
       "       [   0.        ,  549.11781954,  512.        ],\n",
       "       [   0.        ,    0.        ,    1.        ]])"
      ]
     },
     "execution_count": 14,
     "metadata": {},
     "output_type": "execute_result"
    }
   ],
   "source": [
    "# 512, 512 are the focal width/height in pixels divided by 2\n",
    "a = np.zeros((3,3))\n",
    "a[0,0] = isd['focal_length'] \n",
    "a[1,1] = isd['focal_length'] \n",
    "a[:,2] = [isd['original_half_samples'],isd['original_half_lines'],1]\n",
    "a"
   ]
  },
  {
   "cell_type": "code",
   "execution_count": 54,
   "metadata": {
    "collapsed": false
   },
   "outputs": [
    {
     "data": {
      "text/plain": [
       "array([ 36.87751071,  92.45929751])"
      ]
     },
     "execution_count": 54,
     "metadata": {},
     "output_type": "execute_result"
    }
   ],
   "source": [
    "def rotation_from_opk(o, p, k):\n",
    "    om = np.empty((3,3))\n",
    "    om[:,0] = [1,0,0]\n",
    "    om[:,1] = [0, cos(o), -sin(o)]\n",
    "    om[:,2] = [0, sin(o), cos(o)]\n",
    "    \n",
    "    pm = np.empty((3,3))\n",
    "    pm[:,0] = [cos(p), 0, sin(p)]\n",
    "    pm[:,1] = [0,1,0]\n",
    "    pm[:,2] = [-sin(p), 0, cos(p)]\n",
    "    \n",
    "    km = np.empty((3,3))\n",
    "    km[:,0] = [cos(k), -sin(k), 0]\n",
    "    km[:,1] = [sin(k), cos(k), 0]\n",
    "    km[:,2] = [0,0,1]\n",
    "    \n",
    "    return km.dot(pm).dot(om)\n",
    "\n",
    "# This makes a great test case (Mikhail p.95 has the rotation matrix.)\n",
    "o = isd['omega']\n",
    "p = isd['phi']\n",
    "k = isd['kappa']\n",
    "camera_rotation = rotation_from_opk(o, p, k)\n",
    "\n",
    "def setfocalrot(x, y, z):    \n",
    "    # This is a focal plan rotation matrix that is flipping the camera vertically (I think)\n",
    "    # 0,0,1000 is the z position of the spacecraft\n",
    "    c = np.zeros((3,4))\n",
    "    c[0,0] = 1\n",
    "    c[1,1] = -1\n",
    "    c[2,2] = -1\n",
    "    c[:,3] = [x,y,z]\n",
    "    return c\n",
    "\n",
    "# Arguments are spacecraft position: x, y, z\n",
    "c = setfocalrot(isd['x_sensor_origin'],\n",
    "                isd['y_sensor_origin'],\n",
    "                isd['z_sensor_origin'])\n",
    "\n",
    "def pixelloc(a,b,c, pos, tx, ty):\n",
    "    res = a.dot(b).dot(c)\n",
    "    res = res.dot(pos)\n",
    "    res[0] /= res[-1]\n",
    "    res[1] /= res[-1]\n",
    "    res[2] /= res[-1]\n",
    "    # Mapping from focal plane to pixel space\n",
    "    res[0] *= tx\n",
    "    res[1] *= ty\n",
    "    return res[:2]\n",
    "    \n",
    "# pixel position on the surface: x,y,z,1\n",
    "\"\"\"position = np.array([1116890,\n",
    "                     -1604470,\n",
    "                     1459570,\n",
    "                     1])\"\"\"\n",
    "\n",
    "position = np.array([1131980,\n",
    "                    -1597990,\n",
    "                    1455060,\n",
    "                    1])\n",
    "\n",
    "ploc = pixelloc(a, camera_rotation, c, position, isd['transx'][1], isd['transy'][2])\n",
    "ploc"
   ]
  },
  {
   "cell_type": "code",
   "execution_count": 53,
   "metadata": {
    "collapsed": false
   },
   "outputs": [
    {
     "data": {
      "text/plain": [
       "array([ 36.87751071,  92.45929751])"
      ]
     },
     "execution_count": 53,
     "metadata": {},
     "output_type": "execute_result"
    }
   ],
   "source": [
    "ploc"
   ]
  },
  {
   "cell_type": "code",
   "execution_count": 35,
   "metadata": {
    "collapsed": false
   },
   "outputs": [
    {
     "data": {
      "text/plain": [
       "-7.823753891887506"
      ]
     },
     "execution_count": 35,
     "metadata": {},
     "output_type": "execute_result"
    }
   ],
   "source": [
    "ploc[1] - 101"
   ]
  },
  {
   "cell_type": "code",
   "execution_count": null,
   "metadata": {
    "collapsed": true
   },
   "outputs": [],
   "source": []
  }
 ],
 "metadata": {
  "kernelspec": {
   "display_name": "Python 3",
   "language": "python",
   "name": "python3"
  },
  "language_info": {
   "codemirror_mode": {
    "name": "ipython",
    "version": 3
   },
   "file_extension": ".py",
   "mimetype": "text/x-python",
   "name": "python",
   "nbconvert_exporter": "python",
   "pygments_lexer": "ipython3",
   "version": "3.5.2"
  }
 },
 "nbformat": 4,
 "nbformat_minor": 2
}
