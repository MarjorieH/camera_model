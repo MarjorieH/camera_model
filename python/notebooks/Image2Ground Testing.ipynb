{
 "cells": [
  {
   "cell_type": "code",
   "execution_count": 100,
   "metadata": {
    "collapsed": true
   },
   "outputs": [],
   "source": [
    "import json\n",
    "from math import sin, cos, tan, pi\n",
    "import numpy as np"
   ]
  },
  {
   "cell_type": "code",
   "execution_count": 11,
   "metadata": {
    "collapsed": false
   },
   "outputs": [],
   "source": [
    "with open('isd.isd', 'r') as f:\n",
    "    isd = json.load(f)"
   ]
  },
  {
   "cell_type": "markdown",
   "metadata": {},
   "source": [
    "The example that we have been working on looks like a pinhole ground to image projection, defined as:\n",
    "\n",
    "$$\\begin{bmatrix}\n",
    "    w \\cdot u \\\\\n",
    "    w \\cdot v \\\\\n",
    "    w\n",
    "\\end{bmatrix} = \\mathbf{K}\n",
    "\\begin{bmatrix}\n",
    "    \\mathbf{Rt}\n",
    "\\end{bmatrix}\n",
    "\\begin{bmatrix}\n",
    "    X\\\\\n",
    "    Y\\\\\n",
    "    Z\\\\\n",
    "    1\n",
    "\\end{bmatrix}\n",
    "$$\n",
    "\n",
    "or \n",
    "\n",
    "$$\\begin{bmatrix}\n",
    "    w \\cdot u \\\\\n",
    "    w \\cdot v \\\\\n",
    "    w\n",
    "\\end{bmatrix} =\n",
    "\\begin{bmatrix}\n",
    "    f & s & u_{0} \\\\\n",
    "    0 & \\alpha f & v_{0} \\\\\n",
    "    0 & 0 & 1\n",
    "\\end{bmatrix}\n",
    "\\begin{bmatrix}\n",
    "    r_{11} & r_{12} & r_{13} & t_{x} \\\\\n",
    "    r_{21} & r_{22} & r_{23} & t_{y} \\\\\n",
    "    r_{31} & r_{32} & r_{33} & t_{z} \\\\\n",
    "\\end{bmatrix}\n",
    "\\begin{bmatrix}\n",
    "    X\\\\\n",
    "    Y\\\\\n",
    "    Z\\\\\n",
    "    1\n",
    "\\end{bmatrix}\n",
    "$$\n",
    "\n",
    "**K** is the intrinsic matrix (interior orientation), **R** is the extrinsic matrix (exterior orientation), and **t** is the translation.  In the extrinsic matrix $\\alpha$ (pixel aspect ratio) and $s$ (skew) are often assume to be unit and zero, respectively.  $f$ is the focal length (in pixels) and ($u_{0}, v_{0}$) are the optical center (principal point).\n",
    "\n",
    "The second resource below suggests that **t** can be thought of as the world origin in camera coordinates.\n",
    "\n",
    "### Focal Length Conversion from mm to pixels\n",
    "* If the sensor's physical width is known: $focal_{pixel} = (focal_{mm} / sensor_{width}) * imagewidth_{pixels}$\n",
    "* If the horizontal FoV is known: $focal_{pixel} = (imagewidth_{pixels} * 0.5) / \\tan(FoV * 0.5)$\n",
    "\n",
    "### Resources:\n",
    "* http://ksimek.github.io/2013/08/13/intrinsic/\n",
    "* http://ksimek.github.io/2012/08/22/extrinsic/\n",
    "* http://slazebni.cs.illinois.edu/spring16/3dscene_book_svg.pdf"
   ]
  },
  {
   "cell_type": "code",
   "execution_count": 152,
   "metadata": {
    "collapsed": false
   },
   "outputs": [
    {
     "name": "stdout",
     "output_type": "stream",
     "text": [
      "39048.378278205884\n"
     ]
    }
   ],
   "source": [
    "# 512, 512 are the focal width/height in pixels divided by 2\n",
    "def create_intrinsic_matrix(focal_length, image_width, sensor_width=14.4, skew=0, pixel_aspect=1):\n",
    "    focal_pixels = (focal_length / sensor_width) * image_width  # From the IK - how do we get 14.4 automatically\n",
    "    print(focal_pixels) # Scale back to mm\n",
    "    intrinsic_matrix = np.zeros((3,3))\n",
    "    intrinsic_matrix[0,0] = focal_pixels\n",
    "    intrinsic_matrix[1,1] = focal_pixels\n",
    "    intrinsic_matrix[:,2] = [512.5, 512.5, 1]\n",
    "    return intrinsic_matrix\n",
    "\n",
    "K = create_intrinsic_matrix(isd['focal_length'], isd['nsamples'])\n"
   ]
  },
  {
   "cell_type": "code",
   "execution_count": 151,
   "metadata": {
    "collapsed": false
   },
   "outputs": [
    {
     "name": "stdout",
     "output_type": "stream",
     "text": [
      "[[  5.68490235e-01   8.17280054e-01   9.41921758e-02   5.28070122e+05]\n",
      " [  5.61234754e-01  -3.01556882e-01  -7.70765203e-01   5.61822702e+03]\n",
      " [ -6.01526728e-01   4.91036414e-01  -6.30118113e-01   3.37759481e+06]]\n"
     ]
    },
    {
     "data": {
      "text/plain": [
       "array([  89.62335443,  172.51556848])"
      ]
     },
     "execution_count": 151,
     "metadata": {},
     "output_type": "execute_result"
    }
   ],
   "source": [
    "def rotation_from_opk(o, p, k):\n",
    "    om = np.empty((3,3))\n",
    "    om[:,0] = [1,0,0]\n",
    "    om[:,1] = [0, cos(o), -sin(o)]\n",
    "    om[:,2] = [0, sin(o), cos(o)]\n",
    "    \n",
    "    pm = np.empty((3,3))\n",
    "    pm[:,0] = [cos(p), 0, sin(p)]\n",
    "    pm[:,1] = [0,1,0]\n",
    "    pm[:,2] = [-sin(p), 0, cos(p)]\n",
    "    \n",
    "    km = np.empty((3,3))\n",
    "    km[:,0] = [cos(k), -sin(k), 0]\n",
    "    km[:,1] = [sin(k), cos(k), 0]\n",
    "    km[:,2] = [0,0,1]\n",
    "    \n",
    "    return km.dot(pm).dot(om)\n",
    "\n",
    "# This makes a great test case (Mikhail p.95 has the rotation matrix.)\n",
    "o = isd['omega']\n",
    "p = isd['phi']\n",
    "k = isd['kappa']\n",
    "\n",
    "# This is R, but we need t to have a proper augmented matrix\n",
    "R = np.empty((3,4))\n",
    "R[:,:3] = rotation_from_opk(o, p, k)\n",
    "\n",
    "RC = np.empty((4,4))\n",
    "RC[:3,:3] = rotation_from_opk(o, p, k)\n",
    "RC[:3,-1] = [isd['x_sensor_origin'],\n",
    "           isd['y_sensor_origin'],\n",
    "           isd['z_sensor_origin']]\n",
    "RC[-1] = [0,0,0,1]\n",
    "\n",
    "\n",
    "invRC = np.linalg.inv(RC)[:3, :]\n",
    "print(invRC)\n",
    "\n",
    "def setfocalrot(x, y, z):    \n",
    "    # This is a focal plan rotation matrix that is flipping the camera vertically (I think)\n",
    "    # 0,0,1000 is the z position of the spacecraft\n",
    "    c = np.zeros((3,4))\n",
    "    c[0,0] = 1\n",
    "    c[1,1] = -1\n",
    "    c[2,2] = -1\n",
    "    c[:,3] = [x,y,z]\n",
    "    return c\n",
    "\n",
    "# Arguments are spacecraft position: x, y, z\n",
    "c = setfocalrot(isd['x_sensor_origin'],\n",
    "                isd['y_sensor_origin'],\n",
    "                isd['z_sensor_origin'])\n",
    "\n",
    "def pixelloc(K,R,t, tx, ty):\n",
    "    res = K.dot(R).dot(t)\n",
    "    res[0] /= res[-1]\n",
    "    res[1] /= res[-1]\n",
    "    res[2] /= res[-1]\n",
    "    # Mapping from focal plane to pixel space\n",
    "    res[0]\n",
    "    res[1]\n",
    "    return res[:2]\n",
    "    \n",
    "# pixel position on the surface: x,y,z,1\n",
    "position = np.array([1116890,\n",
    "                     -1604470,\n",
    "                     1459570,\n",
    "                     1])\n",
    "\n",
    "\"\"\"position = np.array([1131980,\n",
    "                    -1597990,\n",
    "                    1455060,\n",
    "                    1])\"\"\"\n",
    "\n",
    "ploc = pixelloc(K, invRC, position, isd['transx'][1], isd['transy'][2])\n",
    "ploc"
   ]
  },
  {
   "cell_type": "code",
   "execution_count": 129,
   "metadata": {
    "collapsed": false
   },
   "outputs": [
    {
     "name": "stdout",
     "output_type": "stream",
     "text": [
      "[[  3.90483783e+04   0.00000000e+00   5.12500000e+02]\n",
      " [  0.00000000e+00   3.90483783e+04   5.12500000e+02]\n",
      " [  0.00000000e+00   0.00000000e+00   1.00000000e+00]]\n"
     ]
    }
   ],
   "source": [
    "print(K)"
   ]
  },
  {
   "cell_type": "code",
   "execution_count": 130,
   "metadata": {
    "collapsed": false
   },
   "outputs": [
    {
     "name": "stdout",
     "output_type": "stream",
     "text": [
      "[[ 0.56849023  0.56123475 -0.60152673]\n",
      " [ 0.81728005 -0.30155688  0.49103641]\n",
      " [ 0.09419218 -0.7707652  -0.63011811]]\n"
     ]
    }
   ],
   "source": [
    "print(R)"
   ]
  },
  {
   "cell_type": "code",
   "execution_count": null,
   "metadata": {
    "collapsed": true
   },
   "outputs": [],
   "source": []
  }
 ],
 "metadata": {
  "kernelspec": {
   "display_name": "Python 3",
   "language": "python",
   "name": "python3"
  },
  "language_info": {
   "codemirror_mode": {
    "name": "ipython",
    "version": 3
   },
   "file_extension": ".py",
   "mimetype": "text/x-python",
   "name": "python",
   "nbconvert_exporter": "python",
   "pygments_lexer": "ipython3",
   "version": "3.5.2"
  }
 },
 "nbformat": 4,
 "nbformat_minor": 2
}
