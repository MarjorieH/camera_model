{
 "cells": [
  {
   "cell_type": "code",
   "execution_count": 32,
   "metadata": {
    "collapsed": true
   },
   "outputs": [],
   "source": [
    "import json\n",
    "from math import sin, cos, tan, pi, radians\n",
    "import numpy as np"
   ]
  },
  {
   "cell_type": "code",
   "execution_count": 69,
   "metadata": {
    "collapsed": false
   },
   "outputs": [],
   "source": [
    "with open('isd.isd', 'r') as f:\n",
    "    isd = json.load(f)"
   ]
  },
  {
   "cell_type": "markdown",
   "metadata": {},
   "source": [
    "For a framing camera the interior orientation (intrinsic matrix) requires (at a minimum):\n",
    "\n",
    "* a distortion model\n",
    "* focal point\n",
    "* principal point offset"
   ]
  },
  {
   "cell_type": "markdown",
   "metadata": {},
   "source": [
    "The example that we have been working on looks like a pinhole ground to image projection, defined as:\n",
    "\n",
    "$$\\begin{bmatrix}\n",
    "    w \\cdot u \\\\\n",
    "    w \\cdot v \\\\\n",
    "    w\n",
    "\\end{bmatrix} = \\mathbf{K}\n",
    "\\begin{bmatrix}\n",
    "    \\mathbf{Rt}\n",
    "\\end{bmatrix}\n",
    "\\begin{bmatrix}\n",
    "    X\\\\\n",
    "    Y\\\\\n",
    "    Z\\\\\n",
    "    1\n",
    "\\end{bmatrix}\n",
    "$$\n",
    "\n",
    "or \n",
    "\n",
    "$$\\begin{bmatrix}\n",
    "    w \\cdot u \\\\\n",
    "    w \\cdot v \\\\\n",
    "    w\n",
    "\\end{bmatrix} =\n",
    "\\begin{bmatrix}\n",
    "    f & s & u_{0} \\\\\n",
    "    0 & \\alpha f & v_{0} \\\\\n",
    "    0 & 0 & 1\n",
    "\\end{bmatrix}\n",
    "\\begin{bmatrix}\n",
    "    r_{11} & r_{12} & r_{13} & t_{x} \\\\\n",
    "    r_{21} & r_{22} & r_{23} & t_{y} \\\\\n",
    "    r_{31} & r_{32} & r_{33} & t_{z} \\\\\n",
    "\\end{bmatrix}\n",
    "\\begin{bmatrix}\n",
    "    X\\\\\n",
    "    Y\\\\\n",
    "    Z\\\\\n",
    "    1\n",
    "\\end{bmatrix}\n",
    "$$\n",
    "\n",
    "**K** is the intrinsic matrix (interior orientation), **R** is the extrinsic matrix (exterior orientation), and **t** is the translation.  In the extrinsic matrix $\\alpha$ (pixel aspect ratio) and $s$ (skew) are often assume to be unit and zero, respectively.  $f$ is the focal length (in pixels) and ($u_{0}, v_{0}$) are the optical center (principal point).\n",
    "\n",
    "The second resource below suggests that **t** can be thought of as the world origin in camera coordinates.\n",
    "\n",
    "### Focal Length Conversion from mm to pixels\n",
    "* If the sensor's physical width is known: $focal_{pixel} = (focal_{mm} / sensor_{width}) * imagewidth_{pixels}$\n",
    "* If the horizontal FoV is known: $focal_{pixel} = (imagewidth_{pixels} * 0.5) / \\tan(FoV * 0.5)$\n",
    "\n",
    "### Resources:\n",
    "* http://ksimek.github.io/2013/08/13/intrinsic/\n",
    "* http://ksimek.github.io/2012/08/22/extrinsic/\n",
    "* http://slazebni.cs.illinois.edu/spring16/3dscene_book_svg.pdf"
   ]
  },
  {
   "cell_type": "code",
   "execution_count": 162,
   "metadata": {
    "collapsed": false
   },
   "outputs": [
    {
     "name": "stdout",
     "output_type": "stream",
     "text": [
      "These should be equal. 549.1178195372703 549.1178195372703\n",
      "[[  3.90483783e+04   0.00000000e+00   5.12500000e+02]\n",
      " [  0.00000000e+00   3.90483783e+04   5.12500000e+02]\n",
      " [  0.00000000e+00   0.00000000e+00   1.00000000e+00]]\n"
     ]
    }
   ],
   "source": [
    "# 512, 512 are the focal width/height in pixels divided by 2\n",
    "def create_intrinsic_matrix(focal_length, image_width, sensor_width=14.4, skew=0, pixel_aspect=1):\n",
    "    focal_pixels = (focal_length / sensor_width) * image_width  # From the IK - how do we get 14.4 automatically\n",
    "    print( 'These should be equal.', focal_pixels * sensor_width / 1024, focal_length)\n",
    "    intrinsic_matrix = np.zeros((3,3))\n",
    "    intrinsic_matrix[0,0] = focal_pixels\n",
    "    intrinsic_matrix[1,1] = focal_pixels\n",
    "    intrinsic_matrix[:,2] = [512.5, 512.5, 1]\n",
    "    return intrinsic_matrix\n",
    "\n",
    "K = create_intrinsic_matrix(isd['focal_length'], isd['nsamples'])\n",
    "print(K)"
   ]
  },
  {
   "cell_type": "markdown",
   "metadata": {},
   "source": [
    "Here we define:\n",
    "\n",
    "$$L = \\begin{bmatrix}\n",
    "X_{L}\\\\\n",
    "Y_{L}\\\\\n",
    "Z_{L}\n",
    "\\end{bmatrix}\n",
    "$$"
   ]
  },
  {
   "cell_type": "code",
   "execution_count": 8,
   "metadata": {
    "collapsed": false
   },
   "outputs": [
    {
     "data": {
      "text/plain": [
       "array([ 1728357.70312383, -2088409.00610426,  2082873.92805574])"
      ]
     },
     "execution_count": 8,
     "metadata": {},
     "output_type": "execute_result"
    }
   ],
   "source": [
    "L = np.array([isd['x_sensor_origin'],\n",
    "              isd['y_sensor_origin'],\n",
    "              isd['z_sensor_origin']])\n",
    "L"
   ]
  },
  {
   "cell_type": "markdown",
   "metadata": {},
   "source": [
    "$$\\begin{bmatrix}\n",
    "x\\\\\n",
    "y\\\\\n",
    "z \\end{bmatrix} = k\\mathbf{M} \\begin{bmatrix}\n",
    "X - X_{L}\\\\\n",
    "Y - Y_{L}\\\\\n",
    "Z - Z_{L}\n",
    "\\end{bmatrix}$$, where $(x, y, -f)$ are in image coordinates, $k$ is a scale factor, $\\mathbf{M}$ is a 3x3 rotation matrix, and $(X,Y,Z)$ represent the object point."
   ]
  },
  {
   "cell_type": "code",
   "execution_count": 22,
   "metadata": {
    "collapsed": false
   },
   "outputs": [
    {
     "name": "stdout",
     "output_type": "stream",
     "text": [
      "[ 1728357.70312383 -2088409.00610426  2082873.92805574] [ 1728357.70312383 -2088409.00610427  2082873.92805574]\n"
     ]
    }
   ],
   "source": [
    "object_point = np.array([1116890, -1604470, 1459570])\n",
    "\n",
    "# Discard scale momentarily.\n",
    "k = 1\n",
    "\n",
    "# Compute M\n",
    "o = isd['omega']\n",
    "p = isd['phi']\n",
    "k = isd['kappa']\n",
    "M = opk_to_rotation(o, p, k)\n",
    "\n",
    "xyz = M.dot(L)\n",
    "\n",
    "# And now reverse because M is orthogonal\n",
    "L0 = (M.T).dot(xyz)\n",
    "print(L, L0)  # These should be equal."
   ]
  },
  {
   "cell_type": "markdown",
   "metadata": {},
   "source": [
    "# Example from Mikhail"
   ]
  },
  {
   "cell_type": "code",
   "execution_count": 66,
   "metadata": {
    "collapsed": false
   },
   "outputs": [
    {
     "name": "stdout",
     "output_type": "stream",
     "text": [
      "15.159103814 -26.4494716705\n",
      "15.174103814 -26.4694716705\n",
      "(5078.9473684210525, 9842.105263157895)\n"
     ]
    }
   ],
   "source": [
    "def opk_to_rotation(o, p, k):\n",
    "    \"\"\"\n",
    "    Convert from Omega, Phi, Kappa to a 3x3 rotation matrix\n",
    "    \n",
    "    Parameters\n",
    "    ----------\n",
    "    o : float\n",
    "        Omega in radians\n",
    "    p : float\n",
    "        Phi in radians\n",
    "    k : float\n",
    "        Kappa in radians\n",
    "        \n",
    "    Returns\n",
    "    -------\n",
    "     : ndarray\n",
    "       (3,3) rotation array\n",
    "       \n",
    "    \"\"\"\n",
    "    om = np.empty((3,3))\n",
    "    om[:,0] = [1,0,0]\n",
    "    om[:,1] = [0, cos(o), -sin(o)]\n",
    "    om[:,2] = [0, sin(o), cos(o)]\n",
    "    \n",
    "    pm = np.empty((3,3))\n",
    "    pm[:,0] = [cos(p), 0, sin(p)]\n",
    "    pm[:,1] = [0,1,0]\n",
    "    pm[:,2] = [-sin(p), 0, cos(p)]\n",
    "    \n",
    "    km = np.empty((3,3))\n",
    "    km[:,0] = [cos(k), -sin(k), 0]\n",
    "    km[:,1] = [sin(k), cos(k), 0]\n",
    "    km[:,2] = [0,0,1]\n",
    "    \n",
    "    return km.dot(pm).dot(om)\n",
    "\n",
    "def collinearity(f, M, camera_position, ground_position, principal_point=(0,0)):\n",
    "    XL, YL, ZL = camera_position\n",
    "    X, Y, Z = ground_position\n",
    "    x0, y0 = principal_point\n",
    "    \n",
    "    x = (-f * ((M[0,0] * (X - XL) + M[0,1] * (Y - YL) + M[0,2] * (Z - ZL))/\n",
    "              (M[2,0] * (X - XL) + M[2,1] * (Y - YL) + M[2,2] * (Z - ZL)))) + x0\n",
    "    y = (-f * ((M[1,0] * (X - XL) + M[1,1] * (Y - YL) + M[1,2] * (Z - ZL))/\n",
    "              (M[2,0] * (X - XL) + M[2,1] * (Y - YL) + M[2,2] * (Z - ZL)))) + y0\n",
    "    \n",
    "    return x, y, -f\n",
    "\n",
    "def collinearity_inv(f, M, camera_position, pixel_position, elevation, principal_point=(0,0)):\n",
    "    XL, YL, ZL = camera_position\n",
    "    x, y = pixel_position\n",
    "    Z = elevation\n",
    "    x0, y0 = principal_point\n",
    "    \n",
    "    X = (Z-ZL) * ((M[0,0] * (x - x0) + M[1,0] * (y - y0) + M[2,0] * (-f))/\n",
    "                  (M[0,2] * (x - x0) + M[1,2] * (y - y0) + M[2,2] * (-f))) + XL\n",
    "    Y = (Z-ZL) * ((M[0,1] * (x - x0) + M[1,1] * (y - y0) + M[2,1] * (-f))/\n",
    "                  (M[0,2] * (x - x0) + M[1,2] * (y - y0) + M[2,2] * (-f))) + YL    \n",
    "\n",
    "    return X,Y\n",
    "\n",
    "o = radians(2)\n",
    "p = radians(5)\n",
    "k = radians(15)\n",
    "\n",
    "XL = 5000\n",
    "YL = 10000\n",
    "ZL = 2000\n",
    "\n",
    "# Interior Orientation\n",
    "x0 = 0.015  # mm\n",
    "y0 = -0.02  # mm\n",
    "f = 152.4  # mm\n",
    "\n",
    "# Ground Points\n",
    "X = 5100\n",
    "Y = 9800\n",
    "Z = 100\n",
    "\n",
    "M = opk_to_rotation(o,p,k)  # Distortion model here?\n",
    "\n",
    "# This is correct as per Mikhail\n",
    "x, y, _ = collinearity(f, M, [XL, YL, ZL], [X, Y, Z], [0,0])\n",
    "print(x, y)\n",
    "x, y, _ = collinearity(f, M, [XL, YL, ZL], [X, Y, Z], [x0,y0])\n",
    "print(x,y)\n",
    "\n",
    "# And now the inverse, find X, Y\n",
    "Z = 500  # Provided by Mikhail - his random number\n",
    "print(collinearity_inv(f, M, [XL, YL, ZL], [x, y], Z, (x0, y0)))"
   ]
  },
  {
   "cell_type": "markdown",
   "metadata": {},
   "source": [
    "# Now with our Messenger Camera"
   ]
  },
  {
   "cell_type": "code",
   "execution_count": 70,
   "metadata": {
    "collapsed": false
   },
   "outputs": [
    {
     "name": "stdout",
     "output_type": "stream",
     "text": [
      "Ground:  1559353.47546 -2020326.73115 1000\n",
      "10.2 5.1\n"
     ]
    }
   ],
   "source": [
    "# First from pixel to ground:\n",
    "f = isd['focal_length']\n",
    "\n",
    "XL = isd['x_sensor_origin']\n",
    "YL = isd['y_sensor_origin']\n",
    "ZL = isd['z_sensor_origin']\n",
    "\n",
    "# We know that the pixel size is 0.014^2 mm per pixel (14.4mm / 1024 pixels)\n",
    "pixel_size = 0.014\n",
    "\n",
    "x0 = 512 * pixel_size  # Convert from pixel based principal point to metric principal point\n",
    "y0 = 512 * pixel_size \n",
    "f = isd['focal_length']\n",
    "\n",
    "M = opk_to_rotation(o,p,k)\n",
    "\n",
    "# This is image to ground\n",
    "X, Y = collinearity_inv(f, M, [XL, YL, ZL], [10.2,5.1], 1000, (x0, y0))\n",
    "print('Ground: ', X, Y, 1000)  # Arbitrary 1000m elevation - here is where iteration with intersection is needed.\n",
    "\n",
    "\n",
    "# Now reverse!  This is ground to image\n",
    "\n",
    "# These are in mm and need to convert to pixels\n",
    "x, y, f = collinearity(f, M, [XL, YL, ZL], [X, Y, 1000], [x0,y0])\n",
    "print(x,y)\n",
    "\n"
   ]
  },
  {
   "cell_type": "code",
   "execution_count": 1,
   "metadata": {
    "collapsed": false
   },
   "outputs": [
    {
     "ename": "NameError",
     "evalue": "name 'isd' is not defined",
     "output_type": "error",
     "traceback": [
      "\u001b[0;31m---------------------------------------------------------------------------\u001b[0m",
      "\u001b[0;31mNameError\u001b[0m                                 Traceback (most recent call last)",
      "\u001b[0;32m<ipython-input-1-a141ab415bc1>\u001b[0m in \u001b[0;36m<module>\u001b[0;34m()\u001b[0m\n\u001b[1;32m     21\u001b[0m \u001b[0;34m\u001b[0m\u001b[0m\n\u001b[1;32m     22\u001b[0m \u001b[0;31m# This makes a great test case (Mikhail p.95 has the rotation matrix.)\u001b[0m\u001b[0;34m\u001b[0m\u001b[0;34m\u001b[0m\u001b[0m\n\u001b[0;32m---> 23\u001b[0;31m \u001b[0mo\u001b[0m \u001b[0;34m=\u001b[0m \u001b[0misd\u001b[0m\u001b[0;34m[\u001b[0m\u001b[0;34m'omega'\u001b[0m\u001b[0;34m]\u001b[0m\u001b[0;34m\u001b[0m\u001b[0m\n\u001b[0m\u001b[1;32m     24\u001b[0m \u001b[0mp\u001b[0m \u001b[0;34m=\u001b[0m \u001b[0misd\u001b[0m\u001b[0;34m[\u001b[0m\u001b[0;34m'phi'\u001b[0m\u001b[0;34m]\u001b[0m\u001b[0;34m\u001b[0m\u001b[0m\n\u001b[1;32m     25\u001b[0m \u001b[0mk\u001b[0m \u001b[0;34m=\u001b[0m \u001b[0misd\u001b[0m\u001b[0;34m[\u001b[0m\u001b[0;34m'kappa'\u001b[0m\u001b[0;34m]\u001b[0m\u001b[0;34m\u001b[0m\u001b[0m\n",
      "\u001b[0;31mNameError\u001b[0m: name 'isd' is not defined"
     ]
    }
   ],
   "source": [
    "def opk_to_rotation(o, p, k):\n",
    "    \"\"\"\n",
    "    Convert from Omega, Phi, Kappa to a 3x3 rotation matrix\n",
    "    \"\"\"\n",
    "    om = np.empty((3,3))\n",
    "    om[:,0] = [1,0,0]\n",
    "    om[:,1] = [0, cos(o), -sin(o)]\n",
    "    om[:,2] = [0, sin(o), cos(o)]\n",
    "    \n",
    "    pm = np.empty((3,3))\n",
    "    pm[:,0] = [cos(p), 0, sin(p)]\n",
    "    pm[:,1] = [0,1,0]\n",
    "    pm[:,2] = [-sin(p), 0, cos(p)]\n",
    "    \n",
    "    km = np.empty((3,3))\n",
    "    km[:,0] = [cos(k), -sin(k), 0]\n",
    "    km[:,1] = [sin(k), cos(k), 0]\n",
    "    km[:,2] = [0,0,1]\n",
    "    \n",
    "    return km.dot(pm).dot(om)\n",
    "\n",
    "# This makes a great test case (Mikhail p.95 has the rotation matrix.)\n",
    "o = isd['omega']\n",
    "p = isd['phi']\n",
    "k = isd['kappa']\n",
    "\n",
    "# This is R, but we need t to have a proper augmented matrix\n",
    "R = np.empty((3,4))\n",
    "R[:,:3] = opk_to_rotation(o, p, k)\n",
    "\n",
    "RC = np.empty((4,4))\n",
    "RC[:3,:3] = opk_to_rotation(o, p, k)\n",
    "RC[:3,-1] = [isd['x_sensor_origin'],\n",
    "           isd['y_sensor_origin'],\n",
    "           isd['z_sensor_origin']]\n",
    "RC[-1] = [0,0,0,1]\n",
    "\n",
    "\n",
    "invRC = np.linalg.inv(RC)[:3, :]\n",
    "print(invRC)\n",
    "\n",
    "def setfocalrot(x, y, z):    \n",
    "    # This is a focal plan rotation matrix that is flipping the camera vertically (I think)\n",
    "    # 0,0,1000 is the z position of the spacecraft\n",
    "    c = np.zeros((3,4))\n",
    "    c[0,0] = 1\n",
    "    c[1,1] = -1\n",
    "    c[2,2] = -1\n",
    "    c[:,3] = [x,y,z]\n",
    "    return c\n",
    "\n",
    "# Arguments are spacecraft position: x, y, z\n",
    "c = setfocalrot(isd['x_sensor_origin'],\n",
    "                isd['y_sensor_origin'],\n",
    "                isd['z_sensor_origin'])\n",
    "\n",
    "def pixelloc(K,R,t, tx, ty):\n",
    "    res = K.dot(R).dot(t)\n",
    "    res[0] /= res[-1]\n",
    "    res[1] /= res[-1]\n",
    "    res[2] /= res[-1]\n",
    "    # Mapping from focal plane to pixel space\n",
    "    res[0]\n",
    "    res[1]\n",
    "    return res[:2]\n",
    "    \n",
    "# pixel position on the surface: x,y,z,1\n",
    "position = np.array([1116890,\n",
    "                     -1604470,\n",
    "                     1459570,\n",
    "                     1])\n",
    "# The above should be (ballpark) 90 and 110 I believe\n",
    "\"\"\"position = np.array([1131980,\n",
    "                    -1597990,\n",
    "                    1455060,\n",
    "                    1])\"\"\"\n",
    "\n",
    "ploc = pixelloc(K, invRC, position, isd['transx'][1], isd['transy'][2])\n",
    "ploc"
   ]
  },
  {
   "cell_type": "markdown",
   "metadata": {},
   "source": [
    "## Trying the collinearity version"
   ]
  },
  {
   "cell_type": "code",
   "execution_count": null,
   "metadata": {
    "collapsed": true
   },
   "outputs": [],
   "source": []
  },
  {
   "cell_type": "code",
   "execution_count": 130,
   "metadata": {
    "collapsed": false
   },
   "outputs": [
    {
     "name": "stdout",
     "output_type": "stream",
     "text": [
      "[[ 0.56849023  0.56123475 -0.60152673]\n",
      " [ 0.81728005 -0.30155688  0.49103641]\n",
      " [ 0.09419218 -0.7707652  -0.63011811]]\n"
     ]
    }
   ],
   "source": [
    "def ground_to_image(ground, precision):\n",
    "    i = 0\n",
    "    while current_precision > precision:\n",
    "    \n",
    "        current_precision = g2i(ground, precision)\n",
    "        i += 1\n",
    "        \n",
    "        if i > 10:\n",
    "            break\n",
    "def calc_rotation_matrix(o, p, k):\n",
    "    R = np.empty((3,4))\n",
    "    R[:,:3] = rotation_from_opk(o, p, k)      \n",
    "    R[:,:-1] = [0,0,1]\n",
    "    return R\n",
    "\n",
    "def g2i(ground):\n",
    "    gx = ground[0]\n",
    "    gy = ground[1]\n",
    "    gz = ground[2]\n",
    "        \n",
    "    r = calc_rotation_matrix(o,p,k)\n",
    "    # This does not account for adjustments - how \n",
    "    lnum = \n",
    "    snum = \n",
    "    denom = \n",
    "    \n"
   ]
  },
  {
   "cell_type": "code",
   "execution_count": null,
   "metadata": {
    "collapsed": true
   },
   "outputs": [],
   "source": []
  }
 ],
 "metadata": {
  "kernelspec": {
   "display_name": "Python 3",
   "language": "python",
   "name": "python3"
  },
  "language_info": {
   "codemirror_mode": {
    "name": "ipython",
    "version": 3
   },
   "file_extension": ".py",
   "mimetype": "text/x-python",
   "name": "python",
   "nbconvert_exporter": "python",
   "pygments_lexer": "ipython3",
   "version": "3.5.2"
  }
 },
 "nbformat": 4,
 "nbformat_minor": 2
}
