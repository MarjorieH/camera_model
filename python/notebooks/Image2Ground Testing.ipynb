{
 "cells": [
  {
   "cell_type": "code",
   "execution_count": 39,
   "metadata": {
    "collapsed": true
   },
   "outputs": [],
   "source": [
    "import json\n",
    "from math import sin, cos, tan, pi, radians, sqrt, degrees\n",
    "import numpy as np"
   ]
  },
  {
   "cell_type": "code",
   "execution_count": 100,
   "metadata": {
    "collapsed": false
   },
   "outputs": [],
   "source": [
    "with open('isd.isd', 'r') as f:\n",
    "    isd = json.load(f)"
   ]
  },
  {
   "cell_type": "markdown",
   "metadata": {},
   "source": [
    "Ian's:\n",
    "\n",
    "o = 2.25613094079\n",
    "p = 0.094332016311\n",
    "k = -0.963037547862\n",
    "\n",
    "XL = 1728357.70312\n",
    "YL = -2088409.0061\n",
    "ZL = 2082873.92806"
   ]
  },
  {
   "cell_type": "code",
   "execution_count": 41,
   "metadata": {
    "collapsed": false
   },
   "outputs": [
    {
     "name": "stdout",
     "output_type": "stream",
     "text": [
      "2.256130940792258\n",
      "0.09433201631102328\n",
      "-0.9630375478615623\n",
      "1728357.70312 -2088409.0061 2082873.92806\n"
     ]
    }
   ],
   "source": [
    "print(isd['omega'])\n",
    "print(isd['phi'])\n",
    "print(isd['kappa'])\n",
    "\n",
    "o = isd['omega']\n",
    "p = isd['phi']\n",
    "k = isd['kappa']\n",
    "\n",
    "XL = 1728357.70312\n",
    "YL = -2088409.0061\n",
    "ZL = 2082873.92806\n",
    "print(XL, YL, ZL)"
   ]
  },
  {
   "cell_type": "code",
   "execution_count": 42,
   "metadata": {
    "collapsed": false
   },
   "outputs": [
    {
     "data": {
      "text/plain": [
       "array([[ 0.56849023,  0.56123475, -0.60152673],\n",
       "       [ 0.81728005, -0.30155688,  0.49103641],\n",
       "       [ 0.09419218, -0.7707652 , -0.63011811]])"
      ]
     },
     "execution_count": 42,
     "metadata": {},
     "output_type": "execute_result"
    }
   ],
   "source": [
    "opk_to_rotation(o, p, k)"
   ]
  },
  {
   "cell_type": "markdown",
   "metadata": {},
   "source": [
    "[[ 0.56849023  0.56123475 -0.60152673]\n",
    " [ 0.81728005 -0.30155688  0.49103641]\n",
    " [ 0.09419218 -0.7707652  -0.63011811]]"
   ]
  },
  {
   "cell_type": "markdown",
   "metadata": {},
   "source": [
    "For a framing camera the interior orientation (intrinsic matrix) requires (at a minimum):\n",
    "\n",
    "* a distortion model\n",
    "* focal point\n",
    "* principal point offset"
   ]
  },
  {
   "cell_type": "markdown",
   "metadata": {},
   "source": [
    "The example that we have been working on looks like a pinhole ground to image projection, defined as:\n",
    "\n",
    "$$\\begin{bmatrix}\n",
    "    w \\cdot u \\\\\n",
    "    w \\cdot v \\\\\n",
    "    w\n",
    "\\end{bmatrix} = \\mathbf{K}\n",
    "\\begin{bmatrix}\n",
    "    \\mathbf{Rt}\n",
    "\\end{bmatrix}\n",
    "\\begin{bmatrix}\n",
    "    X\\\\\n",
    "    Y\\\\\n",
    "    Z\\\\\n",
    "    1\n",
    "\\end{bmatrix}\n",
    "$$\n",
    "\n",
    "or \n",
    "\n",
    "$$\\begin{bmatrix}\n",
    "    w \\cdot u \\\\\n",
    "    w \\cdot v \\\\\n",
    "    w\n",
    "\\end{bmatrix} =\n",
    "\\begin{bmatrix}\n",
    "    f & s & u_{0} \\\\\n",
    "    0 & \\alpha f & v_{0} \\\\\n",
    "    0 & 0 & 1\n",
    "\\end{bmatrix}\n",
    "\\begin{bmatrix}\n",
    "    r_{11} & r_{12} & r_{13} & t_{x} \\\\\n",
    "    r_{21} & r_{22} & r_{23} & t_{y} \\\\\n",
    "    r_{31} & r_{32} & r_{33} & t_{z} \\\\\n",
    "\\end{bmatrix}\n",
    "\\begin{bmatrix}\n",
    "    X\\\\\n",
    "    Y\\\\\n",
    "    Z\\\\\n",
    "    1\n",
    "\\end{bmatrix}\n",
    "$$\n",
    "\n",
    "**K** is the intrinsic matrix (interior orientation), **R** is the extrinsic matrix (exterior orientation), and **t** is the translation.  In the extrinsic matrix $\\alpha$ (pixel aspect ratio) and $s$ (skew) are often assume to be unit and zero, respectively.  $f$ is the focal length (in pixels) and ($u_{0}, v_{0}$) are the optical center (principal point).\n",
    "\n",
    "The second resource below suggests that **t** can be thought of as the world origin in camera coordinates.\n",
    "\n",
    "### Focal Length Conversion from mm to pixels\n",
    "* If the sensor's physical width is known: $focal_{pixel} = (focal_{mm} / sensor_{width}) * imagewidth_{pixels}$\n",
    "* If the horizontal FoV is known: $focal_{pixel} = (imagewidth_{pixels} * 0.5) / \\tan(FoV * 0.5)$\n",
    "\n",
    "### Resources:\n",
    "* http://ksimek.github.io/2013/08/13/intrinsic/\n",
    "* http://ksimek.github.io/2012/08/22/extrinsic/\n",
    "* http://slazebni.cs.illinois.edu/spring16/3dscene_book_svg.pdf"
   ]
  },
  {
   "cell_type": "markdown",
   "metadata": {},
   "source": [
    "Here we define:\n",
    "\n",
    "$$L = \\begin{bmatrix}\n",
    "X_{L}\\\\\n",
    "Y_{L}\\\\\n",
    "Z_{L}\n",
    "\\end{bmatrix}\n",
    "$$"
   ]
  },
  {
   "cell_type": "markdown",
   "metadata": {},
   "source": [
    "$$\\begin{bmatrix}\n",
    "x\\\\\n",
    "y\\\\\n",
    "z \\end{bmatrix} = k\\mathbf{M} \\begin{bmatrix}\n",
    "X - X_{L}\\\\\n",
    "Y - Y_{L}\\\\\n",
    "Z - Z_{L}\n",
    "\\end{bmatrix}$$, where $(x, y, -f)$ are in image coordinates, $k$ is a scale factor, $\\mathbf{M}$ is a 3x3 rotation matrix, and $(X,Y,Z)$ represent the object point."
   ]
  },
  {
   "cell_type": "code",
   "execution_count": 43,
   "metadata": {
    "collapsed": false
   },
   "outputs": [],
   "source": [
    "def opk_to_rotation(o, p, k):\n",
    "    \"\"\"\n",
    "    Convert from Omega, Phi, Kappa to a 3x3 rotation matrix\n",
    "    \n",
    "    Parameters\n",
    "    ----------\n",
    "    o : float\n",
    "        Omega in radians\n",
    "    p : float\n",
    "        Phi in radians\n",
    "    k : float\n",
    "        Kappa in radians\n",
    "        \n",
    "    Returns\n",
    "    -------\n",
    "     : ndarray\n",
    "       (3,3) rotation array\n",
    "       \n",
    "    \"\"\"\n",
    "    om = np.empty((3,3))\n",
    "    om[:,0] = [1,0,0]\n",
    "    om[:,1] = [0, cos(o), -sin(o)]\n",
    "    om[:,2] = [0, sin(o), cos(o)]\n",
    "    \n",
    "    pm = np.empty((3,3))\n",
    "    pm[:,0] = [cos(p), 0, sin(p)]\n",
    "    pm[:,1] = [0,1,0]\n",
    "    pm[:,2] = [-sin(p), 0, cos(p)]\n",
    "    \n",
    "    km = np.empty((3,3))\n",
    "    km[:,0] = [cos(k), -sin(k), 0]\n",
    "    km[:,1] = [sin(k), cos(k), 0]\n",
    "    km[:,2] = [0,0,1]\n",
    "    \n",
    "    return km.dot(pm).dot(om)\n",
    "\n",
    "\n",
    "\n",
    "def collinearity(f, M, camera_position, ground_position, principal_point=(0,0)):\n",
    "    XL, YL, ZL = camera_position\n",
    "    X, Y, Z = ground_position\n",
    "    x0, y0 = principal_point\n",
    "    \n",
    "    x = (-f * ((M[0,0] * (X - XL) + M[0,1] * (Y - YL) + M[0,2] * (Z - ZL))/\n",
    "              (M[2,0] * (X - XL) + M[2,1] * (Y - YL) + M[2,2] * (Z - ZL)))) + x0\n",
    "    y = (-f * ((M[1,0] * (X - XL) + M[1,1] * (Y - YL) + M[1,2] * (Z - ZL))/\n",
    "              (M[2,0] * (X - XL) + M[2,1] * (Y - YL) + M[2,2] * (Z - ZL)))) + y0\n",
    "    \n",
    "    return x, y, -f\n",
    "\n",
    "def collinearity_inv(f, M, camera_position, pixel_position, elevation, principal_point=(0,0)):\n",
    "    XL, YL, ZL = camera_position\n",
    "    x, y = pixel_position\n",
    "    Z = elevation\n",
    "    x0, y0 = principal_point\n",
    "    \n",
    "    X = (Z-ZL) * ((M[0,0] * (x - x0) + M[1,0] * (y - y0) + M[2,0] * (-f))/\n",
    "                  (M[0,2] * (x - x0) + M[1,2] * (y - y0) + M[2,2] * (-f))) + XL\n",
    "    Y = (Z-ZL) * ((M[0,1] * (x - x0) + M[1,1] * (y - y0) + M[2,1] * (-f))/\n",
    "                  (M[0,2] * (x - x0) + M[1,2] * (y - y0) + M[2,2] * (-f))) + YL    \n",
    "\n",
    "    return X,Y\n",
    "\n",
    "def pixel_to_focalplane(x, y, tx, ty):\n",
    "    \"\"\"\n",
    "    Convert from camera pixel space to undistorted focal plane space.\n",
    "    \"\"\"\n",
    "    focal_x = tx[0] + (tx[1] * x) + (tx[2] * y)\n",
    "    focal_y = ty[0] + (ty[1] * x) + (ty[2] * y)\n",
    "    return focal_x, focal_y\n",
    "\n",
    "def distorted_mdisnac_focal(x, y, tx, ty):\n",
    "    # This is working when compared to ISIS3\n",
    "    #xp, yp = pixel_to_focalplane(x, y, tx, ty)\n",
    "    d = np.array([1, xp, yp, xp*xp, xp*yp, yp*yp,\n",
    "                     xp**3, xp*yp**2, yp**3])\n",
    "    x = np.asarray(odtx).dot(d)\n",
    "    y = np.asarray(odty).dot(d)\n",
    "    return x, y"
   ]
  },
  {
   "cell_type": "markdown",
   "metadata": {},
   "source": [
    "$u = (f/s_{x}) * (v1/v3) + pp_{x}$\n",
    "\n",
    "$u = -0.007$\n"
   ]
  },
  {
   "cell_type": "code",
   "execution_count": 44,
   "metadata": {
    "collapsed": false
   },
   "outputs": [
    {
     "data": {
      "text/plain": [
       "(0.0, 0.0)"
      ]
     },
     "execution_count": 44,
     "metadata": {},
     "output_type": "execute_result"
    }
   ],
   "source": [
    "pixel_to_focalplane(0, 0, isd['transx'], isd['transy'])"
   ]
  },
  {
   "cell_type": "markdown",
   "metadata": {},
   "source": [
    "#### Example from Mikhail"
   ]
  },
  {
   "cell_type": "code",
   "execution_count": 45,
   "metadata": {
    "collapsed": false
   },
   "outputs": [],
   "source": [
    "o = radians(2)\n",
    "p = radians(5)\n",
    "k = radians(15)\n",
    "\n",
    "XL = 5000\n",
    "YL = 10000\n",
    "ZL = 2000\n",
    "\n",
    "# Interior Orientation\n",
    "x0 = 0.015  # mm\n",
    "y0 = -0.02  # mm\n",
    "f = 152.4  # mm\n",
    "\n",
    "# Ground Points\n",
    "X = 5100\n",
    "Y = 9800\n",
    "Z = 100\n",
    "\n",
    "M = opk_to_rotation(o,p,k)\n",
    "\n",
    "# This is correct as per Mikhail\n",
    "x, y, _ = collinearity(f, M, [XL, YL, ZL], [X, Y, Z], [0,0])\n",
    "x, y, _ = collinearity(f, M, [XL, YL, ZL], [X, Y, Z], [x0,y0])\n",
    "\n",
    "# And now the inverse, find X, Y\n",
    "Z = 100  # Provided by Mikhail - his random number\n",
    "computedX, computedY = collinearity_inv(f, M, [XL, YL, ZL], [x, y], Z, (x0, y0))\n",
    "assert(computedX == X)\n",
    "assert(computedY == Y)"
   ]
  },
  {
   "cell_type": "code",
   "execution_count": 46,
   "metadata": {
    "collapsed": false
   },
   "outputs": [
    {
     "name": "stdout",
     "output_type": "stream",
     "text": [
      "15.159103814 -26.4494716705\n",
      "15.174103814 -26.4694716705\n"
     ]
    }
   ],
   "source": [
    "# Mikhail continued - this is the implementation used in the pinhole CSM (also working)\n",
    "xo = X - XL  # Ground point - Camera position in body fixed\n",
    "yo = Y - YL\n",
    "zo = Z - ZL\n",
    "\n",
    "o = radians(2)\n",
    "p = radians(5)\n",
    "k = radians(15)\n",
    "\n",
    "m = opk_to_rotation(o,p,k)\n",
    "\n",
    "u = m[0][0] * xo + m[0][1] * yo + m[0][2] * zo\n",
    "v = m[1][0] * xo + m[1][1] * yo + m[1][2] * zo\n",
    "w = m[2][0] * xo + m[2][1] * yo + m[2][2] * zo\n",
    "\n",
    "u /= w\n",
    "v /= w\n",
    "\n",
    "x0 = 0.015  # mm\n",
    "y0 = -0.02  # mm\n",
    "f = 152.4  # mm\n",
    "\n",
    "print(-f * u, -f * v)\n",
    "print(x0 -f * u , y0 - f * v)"
   ]
  },
  {
   "cell_type": "markdown",
   "metadata": {},
   "source": [
    "# Now with our Messenger Camera"
   ]
  },
  {
   "cell_type": "code",
   "execution_count": 47,
   "metadata": {
    "collapsed": false
   },
   "outputs": [
    {
     "name": "stdout",
     "output_type": "stream",
     "text": [
      "[512, 512]\n",
      "Ground:  -212297.988378 1788127.81802\n",
      "512.0 512.0\n",
      "Sensor Position (X,Y,Z):  5000 10000 2000\n",
      "\n"
     ]
    }
   ],
   "source": [
    "# First from pixel to ground:\n",
    "f = isd['focal_length']\n",
    "\n",
    "# We know that the pixel size is 0.014^2 mm per pixel (14.4mm / 1024 pixels)\n",
    "pixel_size = 0.014\n",
    "\n",
    "x0 = 512  # Convert from pixel based principal point to metric principal point\n",
    "y0 = 512\n",
    "f = isd['focal_length']\n",
    "\n",
    "o = isd['omega']\n",
    "p = isd['phi']\n",
    "k = isd['kappa']\n",
    "\n",
    "M = opk_to_rotation(o,p,k)\n",
    "\n",
    "camera_coords = [512, 512]\n",
    "print(camera_coords)\n",
    "\n",
    "# This is image to ground\n",
    "X, Y = collinearity_inv(f, M, [XL, YL, ZL], camera_coords,  1455660, (x0, y0))\n",
    "print('Ground: ', X, Y)  # Arbitrary 1000m elevation - here is where iteration with intersection is needed.\n",
    "\n",
    "\n",
    "# Now reverse!  This is ground to image\n",
    "\n",
    "# These are in mm and need to convert to pixels\n",
    "x, y, f = collinearity(f, M, [XL, YL, ZL], [X, Y,  1455660], [x0,y0])\n",
    "print(x,y)\n",
    "\n",
    "print('Sensor Position (X,Y,Z): ', XL, YL, ZL)\n",
    "print('')"
   ]
  },
  {
   "cell_type": "code",
   "execution_count": 48,
   "metadata": {
    "collapsed": false
   },
   "outputs": [
    {
     "name": "stdout",
     "output_type": "stream",
     "text": [
      "5000 10000 2000\n"
     ]
    }
   ],
   "source": [
    "print(XL, YL, ZL)"
   ]
  },
  {
   "cell_type": "code",
   "execution_count": 49,
   "metadata": {
    "collapsed": false
   },
   "outputs": [
    {
     "name": "stdout",
     "output_type": "stream",
     "text": [
      "[[0 1 2]\n",
      " [3 4 5]\n",
      " [6 7 8]]\n",
      "[[0 3 6]\n",
      " [1 4 7]\n",
      " [2 5 8]]\n"
     ]
    }
   ],
   "source": [
    "x = np.arange(9).reshape((3,3))\n",
    "print(x)\n",
    "print(x.T)"
   ]
  },
  {
   "cell_type": "markdown",
   "metadata": {},
   "source": [
    "## Now using ISIS data"
   ]
  },
  {
   "cell_type": "code",
   "execution_count": 50,
   "metadata": {
    "collapsed": false
   },
   "outputs": [
    {
     "name": "stdout",
     "output_type": "stream",
     "text": [
      "-0.00219441620593 0.0016543009333 512.5 512.5 71.42857143 71.42857143\n",
      "512.50002316 512.499969278\n"
     ]
    }
   ],
   "source": [
    "def groundToImage(f, camera_position, camera_orientation, ground_position, principal_point=(0,0)):\n",
    "    XL, YL, ZL = camera_position\n",
    "    X, Y, Z = ground_position\n",
    "    x0, y0 = principal_point\n",
    "    \n",
    "    M = opk_to_rotation(*camera_orientation)\n",
    "    x = (-f * ((M[0,0] * (X - XL) + M[1, 0] * (Y - YL) + M[2, 0] * (Z - ZL))/\n",
    "              (M[0, 2] * (X - XL) + M[1, 2] * (Y - YL) + M[2,2] * (Z - ZL)))) + x0\n",
    "    y = (-f * ((M[0,1] * (X - XL) + M[1,1] * (Y - YL) + M[2,1] * (Z - ZL))/\n",
    "              (M[0,2] * (X - XL) + M[1,2] * (Y - YL) + M[2,2] * (Z - ZL)))) + y0    \n",
    "    \n",
    "    return x, y\n",
    "\n",
    "# Rectangular camera position (lon, lat) in radians\n",
    "XL = 1728357.70312\n",
    "YL = -2088409.0061\n",
    "ZL = 2082873.92806\n",
    "camera_position = [XL, YL, ZL]\n",
    "\n",
    "# Camera rotation\n",
    "o = isd['omega']\n",
    "p = isd['phi']\n",
    "k = isd['kappa']         \n",
    "camera_orientation = [o,p,k]\n",
    "f = 549.1178195372703\n",
    "principal_point = [0,0] \n",
    "\n",
    "X =  1129210.\n",
    "Y = -1599310.\n",
    "Z =  1455250.\n",
    "ground_position = [X, Y, Z]\n",
    "\n",
    "x, y = groundToImage(f, camera_position, camera_orientation, ground_position, principal_point)\n",
    "\n",
    "po = isd['ccd_center'][0]\n",
    "lo = isd['ccd_center'][1]\n",
    "sy = isd['itrans_line'][2]\n",
    "sx = isd['itrans_sample'][1]\n",
    "\n",
    "print(x, y, po, lo, sy, sx)\n",
    "\n",
    "l = y / sy + lo\n",
    "s = x / sx + lo\n",
    "\n",
    "print(l, s)"
   ]
  },
  {
   "cell_type": "code",
   "execution_count": 51,
   "metadata": {
    "collapsed": false
   },
   "outputs": [
    {
     "data": {
      "text/plain": [
       "(262.5, 762.5)"
      ]
     },
     "execution_count": 51,
     "metadata": {},
     "output_type": "execute_result"
    }
   ],
   "source": [
    "# From mm to pixels\n",
    "x = 3.5\n",
    "y = -3.5\n",
    "transx = isd['transx'][1]\n",
    "transy = isd['transy'][2]\n",
    "s = x / transx + 512.5\n",
    "l = y / transy + 512.5\n",
    "\n",
    "l, s"
   ]
  },
  {
   "cell_type": "code",
   "execution_count": 52,
   "metadata": {
    "collapsed": false
   },
   "outputs": [
    {
     "data": {
      "text/plain": [
       "(7.160999999856779, 7.160999999856779)"
      ]
     },
     "execution_count": 52,
     "metadata": {},
     "output_type": "execute_result"
    }
   ],
   "source": [
    "#From pixels to mm\n",
    "l = 1024\n",
    "s = 1024\n",
    "itransl= isd['itrans_line'][2]\n",
    "itranss = isd['itrans_sample'][1]\n",
    "\n",
    "x = (l - 512.5) / itransl\n",
    "y = (s - 512.5) / itranss\n",
    "\n",
    "x, y"
   ]
  },
  {
   "cell_type": "code",
   "execution_count": 53,
   "metadata": {
    "collapsed": false
   },
   "outputs": [
    {
     "data": {
      "text/plain": [
       "[0.0, 0.0, 71.42857143]"
      ]
     },
     "execution_count": 53,
     "metadata": {},
     "output_type": "execute_result"
    }
   ],
   "source": [
    "isd['itrans_line']"
   ]
  },
  {
   "cell_type": "code",
   "execution_count": 54,
   "metadata": {
    "collapsed": false
   },
   "outputs": [
    {
     "data": {
      "text/plain": [
       "(0.0, 0.0)"
      ]
     },
     "execution_count": 54,
     "metadata": {},
     "output_type": "execute_result"
    }
   ],
   "source": [
    "isd['transx'][0], isd['transy'][1]"
   ]
  },
  {
   "cell_type": "code",
   "execution_count": 91,
   "metadata": {
    "collapsed": true
   },
   "outputs": [],
   "source": [
    "def intersect_ellipsoid(h, xc, yc, zc, xl, yl, zl):\n",
    "    \"\"\"\n",
    "    xc, yc, zc are the camera position\n",
    "    xl, yl, zl are the points transformed in the collinearity eqn.\n",
    "    \"\"\"\n",
    "    ap = isd['semi_major_axis'] * 1000 + h\n",
    "    bp = isd['semi_minor_axis'] * 1000 + h\n",
    "    k = ap**2 / bp**2\n",
    "    print('A', ap, bp, k)\n",
    "    \n",
    "    at = xl**2 + yl**2 + k * zl**2\n",
    "    bt = 2.0 * (xl * xc + yl * yc + k * zl * zc)\n",
    "    ct = xc * xc + yc * yc + k * zc * zc - ap * ap\n",
    "    quadterm = bt * bt - 4.0 * at * ct\n",
    "    \n",
    "    print('B', at, bt, ct, quadterm)\n",
    "    \n",
    "    if 0.0 > quadterm:\n",
    "        quadterm = 0\n",
    "        \n",
    "    scale = (-bt - math.sqrt(quadterm)) / (2.0 * at)\n",
    "    print(scale)\n",
    "    x = xc + scale * xl\n",
    "    y = yc + scale * yl\n",
    "    z = zc + scale * zl\n",
    "    print(x, y, z)\n",
    "    return x, y, z"
   ]
  },
  {
   "cell_type": "code",
   "execution_count": 96,
   "metadata": {
    "collapsed": false
   },
   "outputs": [
    {
     "name": "stdout",
     "output_type": "stream",
     "text": [
      "0\n",
      "-330.309045239 269.636844813 -346.009084109\n",
      "0 1728357.70312 -2088409.0061 2082873.92806\n",
      "A 2439400.0 2439400.0 1.0\n",
      "B 301530.379733 -3709394995.99 5736363966885.926 6.84085921539e+18\n",
      "1813.89910261\n",
      "1129210.42238 -1599314.97526 1455248.3609\n",
      "1129210.42238 -1599314.97526 1455248.3609\n",
      "1129210.0 -1599310.0 1455250.0\n",
      "0.422376907431 -4.97526250035 -1.63910194533\n",
      "GP:  [1129210.4223769074, -1599314.9752625003, 1455250.0]\n"
     ]
    },
    {
     "data": {
      "text/plain": [
       "(-8.511539513529486e-05, 0.00069649080914084473)"
      ]
     },
     "execution_count": 96,
     "metadata": {},
     "output_type": "execute_result"
    }
   ],
   "source": [
    "def imageToGround(f, camera_position, camera_orientation,  pixel_position, elevation, principal_point=(0,0)):\n",
    "    XL, YL, ZL = camera_position\n",
    "    x, y = pixel_position\n",
    "    Z = elevation\n",
    "    x0, y0 = principal_point\n",
    "    print(x-x0)\n",
    "    M = opk_to_rotation(*camera_orientation)\n",
    "\n",
    "    X = (Z-ZL) * ((M[0,0] * (x - x0) + M[0,1] * (y - y0) + M[0,2] * (-f))/\n",
    "                  (M[2,0] * (x - x0) + M[2,1] * (y - y0) + M[2,2] * (-f))) + XL;\n",
    "    Y = (Z-ZL) * ((M[1,0] * (x - x0) + M[1,1] * (y - y0) + M[1,2] * (-f))/\n",
    "                  (M[2,0] * (x - x0) + M[2,1] * (y - y0) + M[2,2] * (-f))) + YL;  \n",
    "\n",
    "    # This does not try to solve for scale.\n",
    "    xl = M[0,0] * (x - x0) + M[0,1] * (y - y0) - M[0,2] * (-f)\n",
    "    yl = M[1,0] * (x - x0) + M[1,1] * (y - y0) - M[1,2] * (-f)\n",
    "    zl = M[2,0] * (x - x0) + M[2,1] * (y - y0) - M[2,2] * (-f)\n",
    "\n",
    "    print(xl, yl, zl)\n",
    "    h = 0\n",
    "    print(h, XL, YL, ZL)\n",
    "    x, y, z = intersect_ellipsoid(h, XL, YL, ZL, xl, yl, zl)\n",
    "    \n",
    "    return x, y, z\n",
    "\n",
    "\n",
    "XL = 1728357.70312\n",
    "YL = -2088409.0061\n",
    "ZL = 2082873.92806\n",
    "camera_position = [XL, YL, ZL]\n",
    "\n",
    "# Camera rotation\n",
    "o = isd['omega']\n",
    "p = isd['phi']\n",
    "k = isd['kappa']\n",
    "\n",
    "X =  1129210.\n",
    "Y = -1599310.\n",
    "Z = elevation =  1455250.\n",
    "\n",
    "camera_orientation = [o,p,k]\n",
    "#f = isd['focal_length']\n",
    "principal_point = [0,0]\n",
    "#image_coordinates = [5.768,5.768]\n",
    "image_coordinates = [0,0]\n",
    "image_coordiantes = [100,100]\n",
    "groundx, groundy, groundz = imageToGround(f, camera_position, camera_orientation,  image_coordinates, elevation, principal_point)\n",
    "\n",
    "print(groundx, groundy, groundz)\n",
    "print(X, Y, Z)\n",
    "print(groundx - X, groundy - Y, groundz - Z)\n",
    "\n",
    "# Sanity Checker Here - Inverse.\n",
    "ground_position = [groundx, groundy, Z]\n",
    "print('GP: ', ground_position)\n",
    "groundToImage(f, camera_position, camera_orientation, ground_position, principal_point=(0,0))"
   ]
  },
  {
   "cell_type": "code",
   "execution_count": 59,
   "metadata": {
    "collapsed": false
   },
   "outputs": [
    {
     "data": {
      "text/plain": [
       "(5.2146062519476764e-14, 6.4179769254740625e-14)"
      ]
     },
     "execution_count": 59,
     "metadata": {},
     "output_type": "execute_result"
    }
   ],
   "source": [
    "# Not invert and check for the sensor coordinates using these ground coordinates\n",
    "# Should be equal to pixel_position in the previous cell\n",
    "groundToImage(f, camera_position, camera_orientation, [groundx, groundy, elevation],principal_point)"
   ]
  },
  {
   "cell_type": "code",
   "execution_count": 114,
   "metadata": {
    "collapsed": false
   },
   "outputs": [
    {
     "name": "stdout",
     "output_type": "stream",
     "text": [
      "0.0 0.0\n",
      "-5.7749999998845 -5.7749999998845\n",
      "-5.80656612986 -5.73672942023\n"
     ]
    }
   ],
   "source": [
    "def distort(x, y, odtx, odty):\n",
    "    ts = np.array([1, x, y, x**2, x*y,y**2,\n",
    "                   x**3, x*x*y, x*y*y, y**3])\n",
    "    nx = np.asarray(odtx).dot(ts)\n",
    "    ny = np.asarray(odty).dot(ts)\n",
    "    return nx, ny\n",
    "\n",
    "def pixel_to_mm(l, s, isd):\n",
    "    itransl= isd['itrans_line'][2]\n",
    "    itranss = isd['itrans_sample'][1]\n",
    "\n",
    "    x = (l - 512.5) / itransl\n",
    "    y = (s - 512.5) / itranss\n",
    "\n",
    "    return x, y\n",
    "\n",
    "x, y = pixel_to_mm(512.5, 512.5, isd)\n",
    "nx, ny = distort(x,y,isd['odt_x'], isd['odt_y'])\n",
    "print(nx, ny)\n",
    "\n",
    "x, y = pixel_to_mm(100, 100, isd)\n",
    "print(x, y)\n",
    "nx, ny = distort(x, y, isd['odt_x'], isd['odt_y'])\n",
    "print(nx, ny)"
   ]
  },
  {
   "cell_type": "code",
   "execution_count": 98,
   "metadata": {
    "collapsed": false
   },
   "outputs": [
    {
     "data": {
      "text/plain": [
       "9"
      ]
     },
     "execution_count": 98,
     "metadata": {},
     "output_type": "execute_result"
    }
   ],
   "source": [
    "len(isd['odt_'])"
   ]
  },
  {
   "cell_type": "code",
   "execution_count": 115,
   "metadata": {
    "collapsed": false
   },
   "outputs": [
    {
     "name": "stdout",
     "output_type": "stream",
     "text": [
      "-5.80151741435 -5.73179231841\n"
     ]
    }
   ],
   "source": [
    "j = 0\n",
    "k = 0\n",
    "\n",
    "x = -5.77\n",
    "y = -5.77\n",
    "\n",
    "ts = np.array([1, x, y, x**2, x*y,y**2,\n",
    "               x**3, x*x*y, x*y*y, y**3])\n",
    "for i in range(10):\n",
    "    j = j + ts[i] * isd['odt_x'][i] \n",
    "    k = k + ts[i] * isd['odt_y'][i]\n",
    "print(j, k)"
   ]
  },
  {
   "cell_type": "code",
   "execution_count": 116,
   "metadata": {
    "collapsed": false
   },
   "outputs": [
    {
     "name": "stdout",
     "output_type": "stream",
     "text": [
      "{\r\n",
      "    \"boresight\": [\r\n",
      "        0.0,\r\n",
      "        0.0,\r\n",
      "        1.0\r\n",
      "    ],\r\n",
      "    \"ccd_center\": [\r\n",
      "        512.5,\r\n",
      "        512.5\r\n",
      "    ],\r\n",
      "    \"ephemeris_time\": 418855170.49264956,\r\n",
      "    \"focal_length\": 549.1178195372703,\r\n",
      "    \"focal_length_epsilon\": 0.5,\r\n",
      "    \"ifov\": 25.44,\r\n",
      "    \"instrument_id\": \"MDIS-NAC\",\r\n",
      "    \"itrans_line\": [\r\n",
      "        0.0,\r\n",
      "        0.0,\r\n",
      "        71.42857143\r\n",
      "    ],\r\n",
      "    \"itrans_sample\": [\r\n",
      "        0.0,\r\n",
      "        71.42857143,\r\n",
      "        0.0\r\n",
      "    ],\r\n",
      "    \"kappa\": -0.9630375478615623,\r\n",
      "    \"nlines\": 1024,\r\n",
      "    \"nsamples\": 1024,\r\n",
      "    \"odt_x\": [\r\n",
      "        0.0,\r\n",
      "        1.001854269623802,\r\n",
      "        0.0,\r\n",
      "        0.0,\r\n",
      "        -0.0005094440474941111,\r\n",
      "        0.0,\r\n",
      "        1.004010471468856e-05,\r\n",
      "        0.0,\r\n",
      "        1.004010471468856e-05,\r\n",
      "        0.0\r\n",
      "    ],\r\n",
      "    \"odt_y\": [\r\n",
      "        0.0,\r\n",
      "        0.0,\r\n",
      "        1.0,\r\n",
      "        0.0009060010594996751,\r\n",
      "        0.0,\r\n",
      "        0.0003574842626620758,\r\n",
      "        0.0,\r\n",
      "        1.004010471468856e-05,\r\n",
      "        0.0,\r\n",
      "        1.004010471468856e-05\r\n",
      "    ],\r\n",
      "    \"omega\": 2.256130940792258,\r\n",
      "    \"original_half_lines\": 512.0,\r\n",
      "    \"original_half_samples\": 512.0,\r\n",
      "    \"phi\": 0.09433201631102328,\r\n",
      "    \"pixel_pitch\": 0.014,\r\n",
      "    \"semi_major_axis\": 2439.4,\r\n",
      "    \"semi_minor_axis\": 2439.4,\r\n",
      "    \"spacecraft_name\": \"Messenger\",\r\n",
      "    \"starting_detector_line\": 1.0,\r\n",
      "    \"starting_detector_sample\": 9.0,\r\n",
      "    \"target_name\": \"Mercury\",\r\n",
      "    \"transx\": [\r\n",
      "        0.0,\r\n",
      "        0.014,\r\n",
      "        0.0\r\n",
      "    ],\r\n",
      "    \"transy\": [\r\n",
      "        0.0,\r\n",
      "        0.0,\r\n",
      "        0.014\r\n",
      "    ],\r\n",
      "    \"x_sensor_origin\": 1728495.0778314383,\r\n",
      "    \"y_sensor_origin\": -2088582.0259816118,\r\n",
      "    \"z_sensor_origin\": 2083086.032687525\r\n",
      "}"
     ]
    }
   ],
   "source": [
    "!cat isd.isd\n"
   ]
  },
  {
   "cell_type": "code",
   "execution_count": null,
   "metadata": {
    "collapsed": true
   },
   "outputs": [],
   "source": []
  }
 ],
 "metadata": {
  "anaconda-cloud": {},
  "kernelspec": {
   "display_name": "Python 3",
   "language": "python",
   "name": "python3"
  },
  "language_info": {
   "codemirror_mode": {
    "name": "ipython",
    "version": 3
   },
   "file_extension": ".py",
   "mimetype": "text/x-python",
   "name": "python",
   "nbconvert_exporter": "python",
   "pygments_lexer": "ipython3",
   "version": "3.5.2"
  }
 },
 "nbformat": 4,
 "nbformat_minor": 2
}
