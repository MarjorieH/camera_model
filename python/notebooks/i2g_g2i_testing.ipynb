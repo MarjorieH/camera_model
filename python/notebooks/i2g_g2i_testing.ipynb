{
 "cells": [
  {
   "cell_type": "code",
   "execution_count": 18,
   "metadata": {
    "collapsed": true
   },
   "outputs": [],
   "source": [
    "from math import sin, cos, tan, pi, radians\n",
    "import numpy as np"
   ]
  },
  {
   "cell_type": "code",
   "execution_count": 19,
   "metadata": {
    "collapsed": true
   },
   "outputs": [],
   "source": [
    "# Ground point, should produce image point 300 samples and 450 lines\n",
    "X = 1124722.490145\n",
    "Y = -1602802.718797\n",
    "Z = 1455389.588660\n",
    "\n",
    "# Hardcoded values from json\n",
    "# some set to 0 for simplicity\n",
    "o = 2.256130940792258\n",
    "p = 0.09433201631102328\n",
    "k = -0.9630375478615623\n",
    "f = 549.1178195372703\n",
    "pixel_pitch = 0.014\n",
    "principal_point_x = 0\n",
    "principal_point_y = 0\n",
    "XL = 1728357.7031238307\n",
    "YL = -2088409.0061042644\n",
    "ZL = 2082873.9280557402"
   ]
  },
  {
   "cell_type": "code",
   "execution_count": 20,
   "metadata": {
    "collapsed": true
   },
   "outputs": [],
   "source": [
    "def opk_to_rotation(o, p, k):\n",
    "    \"\"\"\n",
    "    Convert from Omega, Phi, Kappa to a 3x3 rotation matrix\n",
    "    \n",
    "    Parameters\n",
    "    ----------\n",
    "    o : float\n",
    "        Omega in radians\n",
    "    p : float\n",
    "        Phi in radians\n",
    "    k : float\n",
    "        Kappa in radians\n",
    "        \n",
    "    Returns\n",
    "    -------\n",
    "     : ndarray\n",
    "       (3,3) rotation array\n",
    "       \n",
    "    \"\"\"\n",
    "    om = np.empty((3,3))\n",
    "    om[:,0] = [1,0,0]\n",
    "    om[:,1] = [0, cos(o), -sin(o)]\n",
    "    om[:,2] = [0, sin(o), cos(o)]\n",
    "    \n",
    "    pm = np.empty((3,3))\n",
    "    pm[:,0] = [cos(p), 0, sin(p)]\n",
    "    pm[:,1] = [0,1,0]\n",
    "    pm[:,2] = [-sin(p), 0, cos(p)]\n",
    "    \n",
    "    km = np.empty((3,3))\n",
    "    km[:,0] = [cos(k), -sin(k), 0]\n",
    "    km[:,1] = [sin(k), cos(k), 0]\n",
    "    km[:,2] = [0,0,1]\n",
    "    \n",
    "    return km.dot(pm).dot(om)\n",
    "\n",
    "# ground to image\n",
    "def collinearity(f, M, camera_position, ground_position, principal_point = (principal_point_x, principal_point_y)):\n",
    "    XL, YL, ZL = camera_position\n",
    "    X, Y, Z = ground_position\n",
    "    x0, y0 = principal_point\n",
    "    \n",
    "    x = (-f * ((M[0,0] * (X - XL) + M[0,1] * (Y - YL) + M[0,2] * (Z - ZL))/\n",
    "              (M[2,0] * (X - XL) + M[2,1] * (Y - YL) + M[2,2] * (Z - ZL)))) + x0\n",
    "    y = (-f * ((M[1,0] * (X - XL) + M[1,1] * (Y - YL) + M[1,2] * (Z - ZL))/\n",
    "              (M[2,0] * (X - XL) + M[2,1] * (Y - YL) + M[2,2] * (Z - ZL)))) + y0\n",
    "    \n",
    "    return x, y, -f\n",
    "\n",
    "# image to ground\n",
    "def collinearity_inv(f, M, camera_position, pixel_position, elevation, principal_point=(0,0)):\n",
    "    \n",
    "    XL, YL, ZL = camera_position\n",
    "    x, y = pixel_position\n",
    "    #x = x / pixel_pitch\n",
    "    #y = y / pixel_pitch\n",
    "    Z = elevation\n",
    "    x0, y0 = principal_point\n",
    "    \n",
    "    X = (Z-ZL) * ((M[0,0] * (x - x0) + M[1,0] * (y - y0) + M[2,0] * (-f))/\n",
    "                  (M[0,2] * (x - x0) + M[1,2] * (y - y0) + M[2,2] * (-f))) + XL\n",
    "    Y = (Z-ZL) * ((M[0,1] * (x - x0) + M[1,1] * (y - y0) + M[2,1] * (-f))/\n",
    "                  (M[0,2] * (x - x0) + M[1,2] * (y - y0) + M[2,2] * (-f))) + YL    \n",
    "\n",
    "    return X,Y"
   ]
  },
  {
   "cell_type": "code",
   "execution_count": 21,
   "metadata": {
    "collapsed": false
   },
   "outputs": [
    {
     "name": "stdout",
     "output_type": "stream",
     "text": [
      "Ground:  1826118.52656 -2850413.30193 1455389.58866\n",
      "Image:  300.0 450.0\n"
     ]
    }
   ],
   "source": [
    "# First from pixel to ground:\n",
    "\n",
    "# We know that the pixel size is 0.014^2 mm per pixel (14.4mm / 1024 pixels)\n",
    "pixel_size = 0.014\n",
    "\n",
    "x0 = 512 * pixel_size  # Convert from pixel based principal point to metric principal point\n",
    "y0 = 512 * pixel_size \n",
    "\n",
    "majorAxis = 2439.7 * 1000\n",
    "\n",
    "sample_pix = 300 * pixel_size\n",
    "line_pix = 450 * pixel_size\n",
    "\n",
    "M = opk_to_rotation(o, p, k)\n",
    "\n",
    "# This is image to ground\n",
    "X, Y = collinearity_inv(f, M, [XL, YL, ZL], [sample_pix, line_pix], 1455389.588660, (x0, y0))\n",
    "print('Ground: ', X, Y, 1455389.588660)  # Arbitrary 1000m elevation - here is where iteration with intersection is needed.\n",
    "\n",
    "\n",
    "# Now reverse!  This is ground to image\n",
    "\n",
    "# These are in mm and need to convert to pixels\n",
    "x, y, f = collinearity(f, M, [XL, YL, ZL], [X, Y, 1455389.588660], [x0,y0])\n",
    "x = x / pixel_size\n",
    "y = y / pixel_size\n",
    "print('Image: ', x, y)"
   ]
  },
  {
   "cell_type": "code",
   "execution_count": null,
   "metadata": {
    "collapsed": true
   },
   "outputs": [],
   "source": []
  }
 ],
 "metadata": {
  "anaconda-cloud": {},
  "kernelspec": {
   "display_name": "Python [Root]",
   "language": "python",
   "name": "Python [Root]"
  },
  "language_info": {
   "codemirror_mode": {
    "name": "ipython",
    "version": 3
   },
   "file_extension": ".py",
   "mimetype": "text/x-python",
   "name": "python",
   "nbconvert_exporter": "python",
   "pygments_lexer": "ipython3",
   "version": "3.5.2"
  }
 },
 "nbformat": 4,
 "nbformat_minor": 0
}
