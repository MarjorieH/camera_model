{
 "cells": [
  {
   "cell_type": "code",
   "execution_count": 21,
   "metadata": {
    "collapsed": false
   },
   "outputs": [],
   "source": [
    "import json\n",
    "import math\n",
    "\n",
    "import numpy as np\n",
    "import pvl\n",
    "import spiceypy as spice"
   ]
  },
  {
   "cell_type": "code",
   "execution_count": 22,
   "metadata": {
    "collapsed": true
   },
   "outputs": [],
   "source": [
    "# Utility Func\n",
    "def find_in_dict(obj, key):\n",
    "    \"\"\"\n",
    "    Recursively find an entry in a dictionary\n",
    "\n",
    "    Parameters\n",
    "    ----------\n",
    "    obj : dict\n",
    "          The dictionary to search\n",
    "    key : str\n",
    "          The key to find in the dictionary\n",
    "\n",
    "    Returns\n",
    "    -------\n",
    "    item : obj\n",
    "           The value from the dictionary\n",
    "    \"\"\"\n",
    "    if key in obj:\n",
    "        return obj[key]\n",
    "    for k, v in obj.items():\n",
    "        if isinstance(v,dict):\n",
    "            item = find_in_dict(v, key)\n",
    "            if item is not None:\n",
    "                return item"
   ]
  },
  {
   "cell_type": "code",
   "execution_count": 23,
   "metadata": {
    "collapsed": true
   },
   "outputs": [],
   "source": [
    "def focalLength(coefs,t):\n",
    "    fltemp=[]\n",
    "    \n",
    "    for i in range(len(coefs)):\n",
    "        fltemp.append(coefs[i]*t**i)\n",
    "    \n",
    "    return sum(fltemp)\n",
    "\n",
    "\n",
    "        \n",
    "        "
   ]
  },
  {
   "cell_type": "code",
   "execution_count": 24,
   "metadata": {
    "collapsed": false
   },
   "outputs": [],
   "source": [
    "# Furnish the IK Kernel\n",
    "dataPath='/work/projects/IAA_camera/data'\n",
    "spice.furnsh(dataPath+'/msgr_mdis_v160.ti')\n",
    "ikid = 236820\n",
    "\n",
    "spice.furnsh(dataPath+'/msgr_v231.tf')  # Frames Kernel mapping between frames\n",
    "spice.furnsh(dataPath+'/pck00010_msgr_v23.tpc')  # PC Kernel with planetary attitude and body information\n",
    "spice.furnsh(dataPath+'/msgr_dyn_v600.tf')\n",
    "\n",
    "spice.furnsh(dataPath+'/msgr_de405_de423s.bsp')\n",
    "spice.furnsh(dataPath+'/msgr_040803_150430_150430_od431sc_2.bsp')\n",
    "\n",
    "spice.furnsh(dataPath+'/msgr_mdis_sc050727_100302_sub_v1.bc')\n",
    "spice.furnsh(dataPath+'/msgr_mdis_gm040819_150430v1.bc')  # MDIS Instrument Pointing (236890)\n",
    "spice.furnsh(dataPath+'/msgr_1304_v02.bc')  #Bus and Spacecraft Panels position\n",
    "\n",
    "spice.furnsh(dataPath+'/naif0011.tls')\n",
    "spice.furnsh(dataPath+'/messenger_2548.tsc')"
   ]
  },
  {
   "cell_type": "raw",
   "metadata": {
    "collapsed": false
   },
   "source": [
    "res = spice.ckobj('tests/data/msgr_mdis_sc050727_100302_sub_v1.bc')\n",
    "for i in res:\n",
    "    print(i)\n",
    "print()\n",
    "\n",
    "res = spice.ckobj('tests/data/msgr_mdis_gm040819_150430v1.bc')\n",
    "for i in res:\n",
    "    print(i)\n",
    "print()  \n",
    "    \n",
    "res = spice.ckobj('tests/data//msgr_1304_v02.bc')\n",
    "for i in res:\n",
    "    print(i)"
   ]
  },
  {
   "cell_type": "raw",
   "metadata": {
    "collapsed": false
   },
   "source": [
    "spice.bodn2c('MESSENGER')"
   ]
  },
  {
   "cell_type": "code",
   "execution_count": 25,
   "metadata": {
    "collapsed": false
   },
   "outputs": [],
   "source": [
    "# Create the ISD object\n",
    "isd = {}\n",
    "\n",
    "# Load information from the IK kernel\n",
    "isd['focal_length'] = spice.gdpool('INS-{}_FOCAL_LENGTH'.format(ikid), 0, 1)\n",
    "isd['focal_length_epsilon'] = spice.gdpool('INS-{}_FL_UNCERTAINTY'.format(ikid), 0, 1)\n",
    "isd['focal_temp_coefs'] = spice.gdpool('INS-{}_FL_TEMP_COEFFS'.format(ikid),0,6 )\n",
    "isd['nlines'] = spice.gipool('INS-{}_PIXEL_LINES'.format(ikid), 0, 1)\n",
    "isd['nsamples'] = spice.gipool('INS-{}_PIXEL_SAMPLES'.format(ikid), 0, 1)\n",
    "isd['original_half_lines'] = isd['nlines'] / 2.0\n",
    "isd['original_half_samples'] = isd['nsamples'] / 2.0\n",
    "isd['pixel_pitch'] = spice.gdpool('INS-{}_PIXEL_PITCH'.format(ikid), 0, 1)\n",
    "isd['ccd_center'] = spice.gdpool('INS-{}_CCD_CENTER'.format(ikid), 0, 1)\n",
    "isd['ifov'] = spice.gdpool('INS-{}_IFOV'.format(ikid), 0, 1)\n",
    "isd['boresight'] = spice.gdpool('INS-{}_BORESIGHT'.format(ikid), 0, 3)\n",
    "isd['transx'] = spice.gdpool('INS-{}_TRANSX'.format(ikid), 0, 3)\n",
    "isd['transy'] = spice.gdpool('INS-{}_TRANSY'.format(ikid), 0, 3)\n",
    "isd['itrans_sample'] = spice.gdpool('INS-{}_ITRANSS'.format(ikid), 0, 3)\n",
    "isd['itrans_line'] = spice.gdpool('INS-{}_ITRANSL'.format(ikid), 0, 3)\n",
    "isd['odt_x'] = spice.gdpool('INS-{}_OD_T_X'.format(ikid), 0, 9)\n",
    "isd['odt_y'] = spice.gdpool('INS-{}_OD_T_Y'.format(ikid), 0, 9)\n",
    "isd['starting_detector_sample'] = spice.gdpool('INS-{}_FPUBIN_START_SAMPLE'.format(ikid), 0, 1)\n",
    "isd['starting_detector_line'] = spice.gdpool('INS-{}_FPUBIN_START_LINE'.format(ikid), 0, 1)\n"
   ]
  },
  {
   "cell_type": "markdown",
   "metadata": {},
   "source": [
    "What is the minimum information needed to convert to and from the MDIS-NAC frame?\n",
    "\n",
    "236: The code for the messenger spacecraft\n",
    "4: Indicates that the frame is a TK Frame\n",
    "236820: The code for the MDIS-NAC Frame\n"
   ]
  },
  {
   "cell_type": "code",
   "execution_count": 26,
   "metadata": {
    "collapsed": false
   },
   "outputs": [
    {
     "name": "stdout",
     "output_type": "stream",
     "text": [
      "(-236, 4, -236820)\n",
      "-236\n"
     ]
    }
   ],
   "source": [
    "# Type 4 is TK - the mdis-nac is constant w.r.t. another frame\n",
    "print(spice.frinfo(-236820))\n",
    "\n",
    "# Verify that this is messenger\n",
    "print(spice.bods2c('MESSENGER'))"
   ]
  },
  {
   "cell_type": "code",
   "execution_count": 30,
   "metadata": {
    "collapsed": false
   },
   "outputs": [
    {
     "name": "stdout",
     "output_type": "stream",
     "text": [
      "[ 549.11781954]\n",
      "549.213915952\n"
     ]
    }
   ],
   "source": [
    "# Load the ISIS Cube header\n",
    "header = pvl.load('../../tests/data/CN0108840044M_IF_5_NAC_spiced.cub')\n",
    "\n",
    "isd['instrument_id'] = find_in_dict(header, 'InstrumentId')\n",
    "isd['spacecraft_name'] = find_in_dict(header, 'SpacecraftName')\n",
    "isd['target_name'] = find_in_dict(header, 'TargetName')\n",
    "focal_plane_temperature = find_in_dict(header,'FocalPlaneTemperature')\n",
    "isd['focal_plane_temperature'] = find_in_dict(header,'FocalPlaneTemperature')\n",
    "\n",
    "#Calculate the temperature dependent focal length\n",
    "\n",
    "coefs=isd['focal_temp_coefs']\n",
    "temp=isd['focal_plane_temperature']\n",
    "t=temp.value\n",
    "isd['corrected_focal_length']=focalLength(coefs,t)\n",
    "print(isd['focal_length'])\n",
    "print(isd['corrected_focal_length'])\n",
    "\n",
    "\n",
    "# Get the radii from SPICE\n",
    "\n",
    "rad = spice.bodvrd(isd['target_name'], 'RADII', 3)\n",
    "radii = rad[1]\n",
    "isd['semi_major_axis'] = rad[1][0]\n",
    "isd['semi_minor_axis'] = rad[1][1]\n"
   ]
  },
  {
   "cell_type": "code",
   "execution_count": null,
   "metadata": {
    "collapsed": false
   },
   "outputs": [],
   "source": [
    "print(isd['semi_major_axis'])\n",
    "print(isd['semi_minor_axis'])\n",
    "print(isd['focal_plane_temperature'].value)"
   ]
  },
  {
   "cell_type": "markdown",
   "metadata": {},
   "source": [
    "Now we need to compute time."
   ]
  },
  {
   "cell_type": "code",
   "execution_count": null,
   "metadata": {
    "collapsed": false
   },
   "outputs": [],
   "source": [
    "# Here convert the sclock\n",
    "sclock = find_in_dict(header, 'SpacecraftClockCount')\n",
    "exposure_duration = find_in_dict(header, 'ExposureDuration')\n",
    "exposure_duration = exposure_duration.value * 0.001  # Scale to seconds\n",
    "\n",
    "# Get the instrument id, and, since this is a framer, set the time to the middle of the exposure\n",
    "spacecraft_id = spice.bods2c('MESSENGER')\n",
    "et = spice.scs2e(spacecraft_id, sclock)\n",
    "print(et)\n",
    "et += (exposure_duration / 2.0)\n",
    "\n",
    "isd['ephemeris_time'] = et\n"
   ]
  },
  {
   "cell_type": "code",
   "execution_count": null,
   "metadata": {
    "collapsed": false,
    "scrolled": false
   },
   "outputs": [],
   "source": [
    "# This needs to be sensor origin - like the comment below says...\n",
    "# This is almost there - position w.r.t. the spacecraft, but not the camera yet.\n",
    "loc, ltc = spice.spkpos('MESSENGER', isd['ephemeris_time'], 'IAU_MERCURY', 'NONE', isd['target_name'])\n",
    "loc *= 1000\n",
    "isd['x_sensor_origin'] = loc[0]\n",
    "isd['y_sensor_origin'] = loc[1]\n",
    "isd['z_sensor_origin'] = loc[2]"
   ]
  },
  {
   "cell_type": "raw",
   "metadata": {},
   "source": [
    "print(isd['x_sensor_origin'])\n",
    "print(isd['y_sensor_origin'])\n",
    "print(isd['z_sensor_origin'])"
   ]
  },
  {
   "cell_type": "code",
   "execution_count": null,
   "metadata": {
    "collapsed": false
   },
   "outputs": [],
   "source": [
    "camera2bodyfixed = spice.pxform('MSGR_MDIS_NAC','IAU_MERCURY', isd['ephemeris_time'])\n",
    "opk = spice.m2eul(camera2bodyfixed, 3, 2, 1)\n",
    "\n",
    "isd['omega'] = opk[2]\n",
    "isd['phi'] = opk[1]\n",
    "isd['kappa'] = opk[0]"
   ]
  },
  {
   "cell_type": "code",
   "execution_count": null,
   "metadata": {
    "collapsed": false
   },
   "outputs": [],
   "source": [
    "camera2bodyfixed"
   ]
  },
  {
   "cell_type": "code",
   "execution_count": null,
   "metadata": {
    "collapsed": false
   },
   "outputs": [],
   "source": [
    "print(isd['omega'], isd['phi'], isd['kappa'])"
   ]
  },
  {
   "cell_type": "code",
   "execution_count": null,
   "metadata": {
    "collapsed": false
   },
   "outputs": [],
   "source": [
    "class NumpyAwareJSONEncoder(json.JSONEncoder):\n",
    "    def default(self, obj):\n",
    "        if isinstance(obj, np.ndarray) and obj.ndim == 1:\n",
    "            lobj = obj.tolist()\n",
    "            if len(lobj) == 1:\n",
    "                return lobj[0]\n",
    "            else:\n",
    "                return lobj\n",
    "        return json.JSONEncoder.default(self, obj)\n",
    "\n",
    "with open('isd.isd', 'w') as f:\n",
    "    f.write(json.dumps(isd, f, cls=NumpyAwareJSONEncoder))"
   ]
  },
  {
   "cell_type": "code",
   "execution_count": null,
   "metadata": {
    "collapsed": false
   },
   "outputs": [],
   "source": [
    "!cat isd.isd"
   ]
  },
  {
   "cell_type": "code",
   "execution_count": null,
   "metadata": {
    "collapsed": false
   },
   "outputs": [],
   "source": [
    "# This is hard coded in Anne's script\n",
    "isisFocalPlan2SocetPlate = np.eye(3)\n",
    "isisFocalPlan2SocetPlate[1,1] = -1.0\n",
    "isisFocalPlan2SocetPlate[2,2] = -1.0\n",
    "\n",
    "# Grab the body fixed coordinates from SPICE\n",
    "\n",
    "# The mercury Naif ID code is 199\n",
    "nid = 199\n"
   ]
  },
  {
   "cell_type": "code",
   "execution_count": null,
   "metadata": {
    "collapsed": true
   },
   "outputs": [],
   "source": [
    "# OPK\n",
    "isd['x_sensor_origin'] = \n",
    "isd['y_sensor_origin'] = \n",
    "isd['z_sensor_origin'] = \n",
    "isd['omega'] = \n",
    "isd['phi'] =\n",
    "isd['kappa'] = "
   ]
  },
  {
   "cell_type": "code",
   "execution_count": null,
   "metadata": {
    "collapsed": true
   },
   "outputs": [],
   "source": [
    "# ISD Search Information - totally fabricated.\n",
    "isd['min_elevation'] = -1.0\n",
    "isd['max_elevation'] = 1.0"
   ]
  },
  {
   "cell_type": "code",
   "execution_count": null,
   "metadata": {
    "collapsed": true
   },
   "outputs": [],
   "source": []
  },
  {
   "cell_type": "code",
   "execution_count": null,
   "metadata": {
    "collapsed": false
   },
   "outputs": [],
   "source": [
    "isd"
   ]
  },
  {
   "cell_type": "code",
   "execution_count": null,
   "metadata": {
    "collapsed": true
   },
   "outputs": [],
   "source": []
  }
 ],
 "metadata": {
  "kernelspec": {
   "display_name": "Python 3",
   "language": "python",
   "name": "python3"
  },
  "language_info": {
   "codemirror_mode": {
    "name": "ipython",
    "version": 3
   },
   "file_extension": ".py",
   "mimetype": "text/x-python",
   "name": "python",
   "nbconvert_exporter": "python",
   "pygments_lexer": "ipython3",
   "version": "3.4.3"
  }
 },
 "nbformat": 4,
 "nbformat_minor": 1
}
